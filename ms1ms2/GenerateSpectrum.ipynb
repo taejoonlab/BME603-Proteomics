{
 "cells": [
  {
   "cell_type": "markdown",
   "metadata": {},
   "source": [
    "<a href=\"https://colab.research.google.com/github/taejoonlab/BME603-Proteomics/blob/main/ms1ms2/GenerateSpectrum.ipynb\" target=\"_blank\">\n",
    "<img src=\"https://colab.research.google.com/assets/colab-badge.svg\" alt=\"Open In Colab\">\n",
    "</a>\n",
    "\n",
    "# Generate a theoretical spectrum."
   ]
  },
  {
   "cell_type": "code",
   "execution_count": 2,
   "metadata": {
    "colab": {
     "base_uri": "https://localhost:8080/"
    },
    "id": "ZdS7pXMB7_jJ",
    "outputId": "4613c8c7-131d-49ac-aa5e-0159745dde13"
   },
   "outputs": [
    {
     "name": "stdout",
     "output_type": "stream",
     "text": [
      "{   'A': {'avg': 71.0788, 'mono': 71.03711},\n",
      "    'C': {'avg': 103.1388, 'mono': 103.00919},\n",
      "    'D': {'avg': 115.0886, 'mono': 115.02694},\n",
      "    'E': {'avg': 129.1155, 'mono': 129.04259},\n",
      "    'F': {'avg': 147.1766, 'mono': 147.06841},\n",
      "    'G': {'avg': 57.0519, 'mono': 57.02146},\n",
      "    'H': {'avg': 137.1411, 'mono': 137.05891},\n",
      "    'I': {'avg': 113.1594, 'mono': 113.08406},\n",
      "    'K': {'avg': 128.1741, 'mono': 128.09496},\n",
      "    'L': {'avg': 113.1594, 'mono': 113.08406},\n",
      "    'M': {'avg': 131.1926, 'mono': 131.04049},\n",
      "    'N': {'avg': 114.1038, 'mono': 114.04293},\n",
      "    'P': {'avg': 97.1167, 'mono': 97.05276},\n",
      "    'Q': {'avg': 128.1307, 'mono': 128.05858},\n",
      "    'R': {'avg': 156.1875, 'mono': 156.10111},\n",
      "    'S': {'avg': 87.0782, 'mono': 87.03203},\n",
      "    'T': {'avg': 101.1051, 'mono': 101.04768},\n",
      "    'V': {'avg': 99.1326, 'mono': 99.06841},\n",
      "    'W': {'avg': 186.2132, 'mono': 186.07931},\n",
      "    'Y': {'avg': 163.176, 'mono': 163.06333}}\n"
     ]
    }
   ],
   "source": [
    "# Read the masses of amino acids from AminoAcidMasses.json\n",
    "aa_list = {    \n",
    "    \"A\": { \"avg\": 71.0788, \"mono\": 71.03711 },\n",
    "    \"C\": { \"avg\": 103.1388, \"mono\": 103.00919 },\n",
    "    \"D\": { \"avg\": 115.0886, \"mono\": 115.02694 },\n",
    "    \"E\": { \"avg\": 129.1155, \"mono\": 129.04259 },\n",
    "    \"F\": { \"avg\": 147.1766, \"mono\": 147.06841 },\n",
    "    \"G\": { \"avg\": 57.0519, \"mono\": 57.02146 },\n",
    "    \"H\": { \"avg\": 137.1411, \"mono\": 137.05891 },\n",
    "    \"I\": { \"avg\": 113.1594, \"mono\": 113.08406 },\n",
    "    \"K\": { \"avg\": 128.1741, \"mono\": 128.09496 },\n",
    "    \"L\": { \"avg\": 113.1594, \"mono\": 113.08406 },\n",
    "    \"M\": { \"avg\": 131.1926, \"mono\": 131.04049 },\n",
    "    \"N\": { \"avg\": 114.1038, \"mono\": 114.04293 },\n",
    "    \"P\": { \"avg\": 97.1167, \"mono\": 97.05276 },\n",
    "    \"Q\": { \"avg\": 128.1307, \"mono\": 128.05858 },\n",
    "    \"R\": { \"avg\": 156.1875, \"mono\": 156.10111 },\n",
    "    \"S\": { \"avg\": 87.0782, \"mono\": 87.03203 },\n",
    "    \"T\": { \"avg\": 101.1051, \"mono\": 101.04768 },\n",
    "    \"V\": { \"avg\": 99.1326, \"mono\": 99.06841 },\n",
    "    \"W\": { \"avg\": 186.2132, \"mono\": 186.07931 },\n",
    "    \"Y\": { \"avg\": 163.176, \"mono\": 163.06333 }\n",
    "}\n",
    "\n",
    "# Check the masses of each amino acids    \n",
    "import pprint \n",
    "pp = pprint.PrettyPrinter(indent=4)\n",
    "pp.pprint(aa_list)"
   ]
  },
  {
   "cell_type": "code",
   "execution_count": 3,
   "metadata": {
    "id": "LX7aLOxb7_jR",
    "outputId": "33748b21-8411-4883-fe6e-58bc165bcb60"
   },
   "outputs": [
    {
     "name": "stdout",
     "output_type": "stream",
     "text": [
      "AA masses:  DAR [115.0886, 71.0788, 156.1875]\n",
      "{   'b': [116.0886, 187.1674],\n",
      "    'b_label': ['D', 'DA'],\n",
      "    'precursor': 342.3549,\n",
      "    'y': [227.2663, 156.1875],\n",
      "    'y_label': ['AR', 'R']}\n"
     ]
    }
   ],
   "source": [
    "def generate_spectra(tmp_pep, type='avg'):\n",
    "    rv = {'b': [], 'y': [], 'precursor':0.0, 'b_label':[], 'y_label':[]}\n",
    "    mass_list = [aa_list[x][type] for x in tmp_pep]\n",
    "    print(\"AA masses: \",tmp_pep, mass_list)\n",
    "    y_mass = sum(mass_list)\n",
    "    rv['precursor'] = y_mass\n",
    "    b_mass = 1\n",
    "    len_pep = len(tmp_pep)\n",
    "    for i in range(0, len_pep-1):\n",
    "        tmp_mass = mass_list[i]\n",
    "        b_mass = b_mass + tmp_mass\n",
    "        y_mass = y_mass - tmp_mass\n",
    "        rv['b'].append(b_mass)\n",
    "        rv['b_label'].append(tmp_pep[:i+1])\n",
    "        rv['y'].append(y_mass)\n",
    "        rv['y_label'].append(tmp_pep[-1*(len_pep-i-1):])\n",
    "    return rv\n",
    "    \n",
    " \n",
    "query_peptide = 'DAR'\n",
    "#query_peptide = 'DLRSWTAADTAAQISQ'\n",
    "query_spectra = generate_spectra(query_peptide, type='avg')\n",
    "\n",
    "# Check the masses of each amino acids    \n",
    "import pprint \n",
    "pp = pprint.PrettyPrinter(indent=4)\n",
    "pp.pprint(query_spectra)"
   ]
  },
  {
   "cell_type": "code",
   "execution_count": 4,
   "metadata": {
    "id": "qdxFQHfw7_jS",
    "outputId": "03aae614-b4f4-43ae-ae24-18bf9e547a2c"
   },
   "outputs": [
    {
     "data": {
      "image/png": "[encoded data removed]",
      "text/plain": [
       "<Figure size 1080x288 with 1 Axes>"
      ]
     },
     "metadata": {
      "needs_background": "light"
     },
     "output_type": "display_data"
    }
   ],
   "source": [
    "import matplotlib.pyplot as plt\n",
    "\n",
    "intensity_b_y = 50\n",
    "intensity_a = 10\n",
    "\n",
    "fig = plt.figure(figsize=(15,4))\n",
    "ax1 = fig.add_subplot(1,1,1)\n",
    "\n",
    "# b-ions\n",
    "ax1.vlines(query_spectra['b'], ymin=0, ymax=intensity_b_y, edgecolor='red', linewidth=4, label='b-ion')\n",
    "ax1.vlines([x-1 for x in query_spectra['b']], ymin=0, ymax=intensity_b_y*0.5, edgecolor='orange', linewidth=2, label='b-ion +/- 1Da')\n",
    "ax1.vlines([x+1 for x in query_spectra['b']], ymin=0, ymax=intensity_b_y*0.5, edgecolor='orange', linewidth=2)\n",
    "for i in range(0, len(query_spectra['b'])):\n",
    "    ax1.text(query_spectra['b'][i]+2, intensity_b_y-10+(i%2)*5, query_spectra['b_label'][i], color='red')\n",
    "\n",
    "# y-ions\n",
    "ax1.vlines(query_spectra['y'], ymin=0, ymax=intensity_b_y, edgecolor='blue', linewidth=4, label='y-ion')\n",
    "ax1.vlines([x-1 for x in query_spectra['y']], ymin=0, ymax=intensity_b_y*0.5, edgecolor='cyan', linewidth=2, label='y-ion +/- 1Da')\n",
    "ax1.vlines([x+1 for x in query_spectra['y']], ymin=0, ymax=intensity_b_y*0.5, edgecolor='cyan', linewidth=2)\n",
    "for i in range(0, len(query_spectra['y'])):\n",
    "    ax1.text(query_spectra['y'][i]+2, intensity_b_y-20+(i%2)*5, query_spectra['y_label'][i], color='blue')\n",
    "\n",
    "# a-ions : loss of CO (MW=28.01)\n",
    "mass_CO = 28.01\n",
    "ax1.vlines([x-mass_CO for x in query_spectra['b']], ymin=0, ymax=intensity_a, edgecolor='green', linewidth=4, label=('a-ion (b-%.2f)' % mass_CO))\n",
    "\n",
    "# loss of H2O (MW=18.015)\n",
    "mass_H2O = 18.015\n",
    "ax1.vlines([x-mass_H2O for x in query_spectra['b']], ymin=0, ymax=intensity_a, edgecolor='lightgreen', linewidth=2, label=('H2O loss (b/y-%.2f)' % mass_H2O))\n",
    "ax1.vlines([x-mass_H2O for x in query_spectra['y']], ymin=0, ymax=intensity_a, edgecolor='lightgreen', linewidth=2)\n",
    "\n",
    "# loss of NH3 (MW=17.031)\n",
    "mass_NH3 = 17.031\n",
    "ax1.vlines([x-mass_NH3 for x in query_spectra['b']], ymin=0, ymax=intensity_a, edgecolor='grey', linewidth=2, label=('NH3 loss (b/y-%.2f)' % mass_NH3))\n",
    "ax1.vlines([x-mass_NH3 for x in query_spectra['y']], ymin=0, ymax=intensity_a, edgecolor='grey', linewidth=2)\n",
    "\n",
    "# Precursor\n",
    "ax1.vlines(query_spectra['precursor'], ymin=0, ymax=intensity_b_y, edgecolor='black', linewidth=5, label='precursor')\n",
    "ax1.text(query_spectra['precursor']+2, intensity_b_y, query_peptide)\n",
    "\n",
    "ax1.set_xlim(0, query_spectra['precursor']*1.1)\n",
    "ax1.set_ylim(0, 65)\n",
    "ax1.set_xlabel('Mass (Da)')\n",
    "ax1.set_ylabel('Intensity (a.u)')\n",
    "ax1.legend(ncol=4, loc='upper center')\n",
    "ax1.set_title('Theoretical spectrum: %s' % query_peptide)\n",
    "plt.show()"
   ]
  },
  {
   "cell_type": "code",
   "execution_count": null,
   "metadata": {
    "id": "BV7A0eYS7_jU"
   },
   "outputs": [],
   "source": []
  }
 ],
 "metadata": {
  "colab": {
   "name": "GenerateSpectrum.ipynb",
   "provenance": []
  },
  "kernelspec": {
   "display_name": "Python 3",
   "language": "python",
   "name": "python3"
  },
  "language_info": {
   "codemirror_mode": {
    "name": "ipython",
    "version": 3
   },
   "file_extension": ".py",
   "mimetype": "text/x-python",
   "name": "python",
   "nbconvert_exporter": "python",
   "pygments_lexer": "ipython3",
   "version": "3.7.7"
  }
 },
 "nbformat": 4,
 "nbformat_minor": 4
}
