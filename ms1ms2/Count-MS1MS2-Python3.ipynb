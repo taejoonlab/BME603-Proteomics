{
 "cells": [
  {
   "cell_type": "markdown",
   "id": "concerned-priority",
   "metadata": {},
   "source": [
    "<a href=\"https://colab.research.google.com/github/taejoonlab/BME603-Proteomics/blob/main/ms1ms2/Count-MS1MS2-Python3.ipynb\" target=\"_blank\">\n",
    "<img src=\"https://colab.research.google.com/assets/colab-badge.svg\" alt=\"Open In Colab\">\n",
    "</a>\n",
    "\n",
    "# Explore MS1 and MS2 data of mass spec proteomics\n",
    "\n",
    "## Download data files (ms1 & ms2)\n",
    "\n",
    "\"curl\" is a program you can download a file using its URL. If you want to know more about this program, run \"!curl --manual\" in the code block.\n",
    "You can get more information about MS1 and MS2 format in the below:\n",
    "- https://doi.org/10.1002/rcm.1603\n",
    "- http://crux.ms/file-formats/ms2-format.html"
   ]
  },
  {
   "cell_type": "code",
   "execution_count": 6,
   "id": "statewide-video",
   "metadata": {},
   "outputs": [
    {
     "name": "stdout",
     "output_type": "stream",
     "text": [
      "  % Total    % Received % Xferd  Average Speed   Time    Time     Time  Current\n",
      "                                 Dload  Upload   Total   Spent    Left  Speed\n",
      "100  284M  100  284M    0     0  3326k      0  0:01:27  0:01:27 --:--:-- 3155k:46  0:00:38 3710k 3529k      0  0:01:22  0:01:04  0:00:18 2974k\n"
     ]
    }
   ],
   "source": [
    "!curl -O https://pub.taejoonlab.org/BME603/ABRF_iPRG2009/ms1ms2/iPRG2009_ECOLI_blue_1.ms1.gz"
   ]
  },
  {
   "cell_type": "code",
   "execution_count": 12,
   "id": "proved-remainder",
   "metadata": {},
   "outputs": [
    {
     "name": "stdout",
     "output_type": "stream",
     "text": [
      "  % Total    % Received % Xferd  Average Speed   Time    Time     Time  Current\n",
      "                                 Dload  Upload   Total   Spent    Left  Speed\n",
      "100 15.2M  100 15.2M    0     0  6453k      0  0:00:02  0:00:02 --:--:-- 6453k\n"
     ]
    }
   ],
   "source": [
    "!curl -O https://pub.taejoonlab.org/BME603/ABRF_iPRG2009/ms1ms2/iPRG2009_ECOLI_blue_1.ms2.gz"
   ]
  },
  {
   "cell_type": "code",
   "execution_count": 14,
   "id": "ahead-falls",
   "metadata": {},
   "outputs": [
    {
     "name": "stdout",
     "output_type": "stream",
     "text": [
      "Count-MS1MS2-Python3.ipynb    iPRG2009_ECOLI_blue_1.ms2.gz\n",
      "iPRG2009_ECOLI_blue_1.ms1.gz\n"
     ]
    }
   ],
   "source": [
    "!ls"
   ]
  },
  {
   "cell_type": "code",
   "execution_count": 13,
   "id": "indian-weapon",
   "metadata": {},
   "outputs": [
    {
     "name": "stdout",
     "output_type": "stream",
     "text": [
      "H\tCreationDate Wed Mar 17 17:23:50 2021\n",
      "H\tExtractor\tProteoWizard\n",
      "H\tExtractor version\tXcalibur software\n",
      "H\tSource file\tiPRG2009_ECOLI_blue_1.raw\n",
      "S\t1\t1\n",
      "I\tRTime\t15.00152\n",
      "I\tBPI\t9983.659\n",
      "I\tBPM\t445.1206\n",
      "I\tTIC\t87172.62\n",
      "300.0008 0\n",
      "\n",
      "gzip: stdout: Broken pipe\n"
     ]
    }
   ],
   "source": [
    "!zcat iPRG2009_ECOLI_blue_1.ms1.gz | head"
   ]
  },
  {
   "cell_type": "code",
   "execution_count": 15,
   "id": "focused-cuisine",
   "metadata": {},
   "outputs": [
    {
     "name": "stdout",
     "output_type": "stream",
     "text": [
      "H\tCreationDate Wed Mar 17 17:14:09 2021\n",
      "H\tExtractor\tProteoWizard\n",
      "H\tExtractor version\tXcalibur software\n",
      "H\tSource file\tiPRG2009_ECOLI_blue_1.raw\n",
      "S\t37\t37\t0\n",
      "I\tRTime\t15.95345\n",
      "I\tBPI\t338.4679\n",
      "I\tBPM\t290.7694\n",
      "I\tTIC\t741.0925\n",
      "Z\t3\t925.6723\n",
      "\n",
      "gzip: stdout: Broken pipe\n"
     ]
    }
   ],
   "source": [
    "!zcat iPRG2009_ECOLI_blue_1.ms2.gz | head"
   ]
  },
  {
   "cell_type": "markdown",
   "id": "located-portland",
   "metadata": {},
   "source": [
    "## Count ms1 and ms2 spectra\n",
    "- Read MS1 file: \"iPRG2009_ECOLI_blue_1.ms1.gz\"\n",
    "- Read MS2 file: \"iPRG2009_ECOLI_blue_1.ms2.gz\"\n",
    "- Count number of spectra, and their retention times."
   ]
  },
  {
   "cell_type": "code",
   "execution_count": 36,
   "id": "refined-template",
   "metadata": {},
   "outputs": [
    {
     "name": "stdout",
     "output_type": "stream",
     "text": [
      "Number of MS1 spectrum: 6894\n"
     ]
    }
   ],
   "source": [
    "import gzip\n",
    "\n",
    "ret_times_ms1 = dict()\n",
    "f_ms1 = gzip.open(\"iPRG2009_ECOLI_blue_1.ms1.gz\", \"rt\")\n",
    "for line in f_ms1:\n",
    "    tokens = line.strip().split(\"\\t\")\n",
    "    if tokens[0] == 'S':\n",
    "        spectrum_id = line.strip().split()[1]\n",
    "        if spectrum_id not in ret_times:\n",
    "            ret_times_ms1[spectrum_id] = 0\n",
    "    elif tokens[0] == 'I' and tokens[1] == 'RTime':\n",
    "        tmp_ret_time = float(tokens[2])\n",
    "        ret_times_ms1[spectrum_id] = tmp_ret_time\n",
    "f_ms1.close()\n",
    "\n",
    "print(\"Number of MS1 spectrum:\", len(ret_times))"
   ]
  },
  {
   "cell_type": "code",
   "execution_count": 37,
   "id": "nasty-carry",
   "metadata": {},
   "outputs": [
    {
     "name": "stdout",
     "output_type": "stream",
     "text": [
      "Number of MS2 spectrum: 9354\n"
     ]
    }
   ],
   "source": [
    "import gzip\n",
    "\n",
    "ret_times_ms2 = dict()\n",
    "f_ms2 = gzip.open(\"iPRG2009_ECOLI_blue_1.ms2.gz\", \"rt\")\n",
    "for line in f_ms2:\n",
    "    tokens = line.strip().split(\"\\t\")\n",
    "    if tokens[0] == 'S':\n",
    "        spectrum_id = line.strip().split()[1]\n",
    "        if spectrum_id not in ret_times:\n",
    "            ret_times_ms2[spectrum_id] = 0\n",
    "    elif tokens[0] == 'I' and tokens[1] == 'RTime':\n",
    "        tmp_ret_time = float(tokens[2])\n",
    "        ret_times_ms2[spectrum_id] = tmp_ret_time\n",
    "f_ms1.close()\n",
    "\n",
    "print(\"Number of MS2 spectrum:\", len(ret_times_ms2))"
   ]
  },
  {
   "cell_type": "markdown",
   "id": "equipped-criminal",
   "metadata": {},
   "source": [
    "You also can count it with the linux program \"grep\" and \"wc\". First column of outcome will be \"the number of lines starting with 'S'\"."
   ]
  },
  {
   "cell_type": "code",
   "execution_count": 16,
   "id": "roman-seating",
   "metadata": {},
   "outputs": [
    {
     "name": "stdout",
     "output_type": "stream",
     "text": [
      "   6894   20682   89790\n"
     ]
    }
   ],
   "source": [
    "!zcat iPRG2009_ECOLI_blue_1.ms1.gz | grep ^S | wc"
   ]
  },
  {
   "cell_type": "code",
   "execution_count": 17,
   "id": "opponent-assessment",
   "metadata": {},
   "outputs": [
    {
     "name": "stdout",
     "output_type": "stream",
     "text": [
      "   9354   37416  134178\n"
     ]
    }
   ],
   "source": [
    "!zcat iPRG2009_ECOLI_blue_1.ms2.gz | grep ^S | wc"
   ]
  },
  {
   "cell_type": "markdown",
   "id": "annual-gambling",
   "metadata": {},
   "source": [
    "## Distribution of Retention Times of ms1 & ms2 spectra\n",
    "- Check the intervals of ret_times.\n",
    "- Make a plot of the distribution."
   ]
  },
  {
   "cell_type": "code",
   "execution_count": 47,
   "id": "ideal-popularity",
   "metadata": {},
   "outputs": [
    {
     "name": "stdout",
     "output_type": "stream",
     "text": [
      "MS1 retention time, start (min)): 15.00152\n",
      "MS1 retention time, end (min): 183.9917\n",
      "MS1 mean interval time: 1.471 secs\n",
      "MS1 median interval time: 1.362 secs\n"
     ]
    },
    {
     "data": {
      "image/png": "[encoded data removed]",
      "text/plain": [
       "<Figure size 432x432 with 1 Axes>"
      ]
     },
     "metadata": {
      "needs_background": "light"
     },
     "output_type": "display_data"
    }
   ],
   "source": [
    "import statistics as stat\n",
    "\n",
    "list_interval = []\n",
    "prev_time = 0.0\n",
    "for tmp_time in sorted(ret_times_ms1.values()):\n",
    "    if prev_time == 0:\n",
    "        prev_time = tmp_time\n",
    "        continue\n",
    "    else:\n",
    "        interval_time = tmp_time - prev_time\n",
    "        # convert minutes to seconds\n",
    "        list_interval.append(interval_time * 60)\n",
    "        prev_time = tmp_time\n",
    "\n",
    "print(\"MS1 retention time, start (min)):\", min(ret_times_ms1.values()))\n",
    "print(\"MS1 retention time, end (min):\", max(ret_times_ms1.values()))\n",
    "print(\"MS1 mean interval time: %.3f secs\" % (stat.mean(list_interval)))\n",
    "print(\"MS1 median interval time: %.3f secs\" % (stat.median(list_interval)))\n",
    "      \n",
    "import matplotlib.pyplot as plt\n",
    "fig = plt.figure(figsize=(6,6))\n",
    "ax1 = fig.add_subplot(1,1,1)\n",
    "ax1.hist(list_interval, bins=50, log=True)\n",
    "ax1.set_xlabel('Retention time (sec)')\n",
    "ax1.set_ylabel('Number of MS1 spectra')\n",
    "ax1.set_title('MS1 mean interval time')\n",
    "plt.show()"
   ]
  },
  {
   "cell_type": "code",
   "execution_count": 48,
   "id": "contained-kelly",
   "metadata": {},
   "outputs": [
    {
     "name": "stdout",
     "output_type": "stream",
     "text": [
      "MS2 retention time, start (min)): 15.95345\n",
      "MS2 retention time, end (min): 183.695\n",
      "MS2 mean interval time: 1.076 secs\n",
      "MS2 median interval time: 0.360 secs\n"
     ]
    },
    {
     "data": {
      "image/png": "[encoded data removed]",
      "text/plain": [
       "<Figure size 432x432 with 1 Axes>"
      ]
     },
     "metadata": {
      "needs_background": "light"
     },
     "output_type": "display_data"
    }
   ],
   "source": [
    "list_interval = []\n",
    "prev_time = 0.0\n",
    "for tmp_time in sorted(ret_times_ms2.values()):\n",
    "    if prev_time == 0:\n",
    "        prev_time = tmp_time\n",
    "        continue\n",
    "    else:\n",
    "        interval_time = tmp_time - prev_time\n",
    "        # convert minutes to seconds\n",
    "        list_interval.append(interval_time * 60)\n",
    "        prev_time = tmp_time\n",
    "\n",
    "print(\"MS2 retention time, start (min)):\", min(ret_times_ms2.values()))\n",
    "print(\"MS2 retention time, end (min):\", max(ret_times_ms2.values()))\n",
    "print(\"MS2 mean interval time: %.3f secs\" % (stat.mean(list_interval)))\n",
    "print(\"MS2 median interval time: %.3f secs\" % (stat.median(list_interval)))\n",
    "\n",
    "import matplotlib.pyplot as plt\n",
    "fig = plt.figure(figsize=(6,6))\n",
    "ax1 = fig.add_subplot(1,1,1)\n",
    "ax1.hist(list_interval, bins=50, log=True)\n",
    "ax1.set_xlabel('Retention time (sec)')\n",
    "ax1.set_ylabel('Number of MS2 spectra')\n",
    "ax1.set_title('MS2 mean interval time')\n",
    "plt.show()"
   ]
  },
  {
   "cell_type": "code",
   "execution_count": null,
   "id": "thrown-croatia",
   "metadata": {},
   "outputs": [],
   "source": []
  }
 ],
 "metadata": {
  "kernelspec": {
   "display_name": "Python 3",
   "language": "python",
   "name": "python3"
  },
  "language_info": {
   "codemirror_mode": {
    "name": "ipython",
    "version": 3
   },
   "file_extension": ".py",
   "mimetype": "text/x-python",
   "name": "python",
   "nbconvert_exporter": "python",
   "pygments_lexer": "ipython3",
   "version": "3.7.7"
  }
 },
 "nbformat": 4,
 "nbformat_minor": 5
}
