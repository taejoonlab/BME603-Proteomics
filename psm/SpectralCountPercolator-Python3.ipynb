{
  "nbformat": 4,
  "nbformat_minor": 0,
  "metadata": {
    "colab": {
      "name": "SpectralCount-Percolator-Python3.ipynb",
      "provenance": [],
      "authorship_tag": "ABX9TyN+eyl/E/hIdgvq5/4hQpCX",
      "include_colab_link": true
    },
    "kernelspec": {
      "name": "python3",
      "display_name": "Python 3"
    },
    "language_info": {
      "name": "python"
    }
  },
  "cells": [
    {
      "cell_type": "markdown",
      "metadata": {
        "id": "view-in-github",
        "colab_type": "text"
      },
      "source": [
        "<a href=\"https://colab.research.google.com/github/taejoonlab/BME603-Proteomics/blob/main/psm/SpectralCount_Percolator.ipynb\" target=\"_parent\"><img src=\"https://colab.research.google.com/assets/colab-badge.svg\" alt=\"Open In Colab\"/></a>"
      ]
    },
    {
      "cell_type": "markdown",
      "metadata": {
        "id": "_SU8CAz31lno"
      },
      "source": [
        "Download comet+percolator output from the web repository."
      ]
    },
    {
      "cell_type": "code",
      "metadata": {
        "colab": {
          "base_uri": "https://localhost:8080/"
        },
        "id": "KZy1B39M1T3L",
        "outputId": "9cb90da8-d503-4cad-bcc4-b1ea59cb5d85"
      },
      "source": [
        "url_data = 'https://pub.taejoonlab.org/BME603/Vogel2010_UPS2/'\n",
        "filename_pout = 'Vogel2010_UPS2+30uL.UPS2.comet.pout.txt'\n",
        "url_pout = url_data + 'comet/' + filename_pout\n",
        "\n",
        "!curl -O $url_pout\n",
        "!ls\n",
        "!head *txt"
      ],
      "execution_count": 14,
      "outputs": [
        {
          "output_type": "stream",
          "text": [
            "  % Total    % Received % Xferd  Average Speed   Time    Time     Time  Current\n",
            "                                 Dload  Upload   Total   Spent    Left  Speed\n",
            "100  213k  100  213k    0     0  78216      0  0:00:02  0:00:02 --:--:-- 78188\n",
            "sample_data  Vogel2010_UPS2+30uL.UPS2.comet.pout.txt\n",
            "PSMId\tscore\tq-value\tposterior_error_prob\tpeptide\tproteinIds\n",
            "/home/taejoon/Class/BME603_Proteomics/Vogel2010_UPS2/comet/Vogel2010_UPS2+30uL.UPS2.comet_13685_3_1\t3.68069\t0.00245912\t1.08503e-06\tK.SHCIAEVENDEMPADLPSLAADFVESKDVCK.N\tALBU_HUMAN_UPS\n",
            "/home/taejoon/Class/BME603_Proteomics/Vogel2010_UPS2/comet/Vogel2010_UPS2+30uL.UPS2.comet_11237_3_1\t3.45604\t0.00245912\t2.52272e-06\tK.HTGPGILSMANAGPNTNGSQFFICTAK.T\tPPIA_HUMAN_UPS\n",
            "/home/taejoon/Class/BME603_Proteomics/Vogel2010_UPS2/comet/Vogel2010_UPS2+30uL.UPS2.comet_12087_3_1\t3.36137\t0.00245912\t3.59969e-06\tR.LVRPEVDVMCTAFHDNEETFLK.K\tALBU_HUMAN_UPS\n",
            "/home/taejoon/Class/BME603_Proteomics/Vogel2010_UPS2/comet/Vogel2010_UPS2+30uL.UPS2.comet_12880_3_1\t3.28182\t0.00245912\t4.85307e-06\tK.SHCIAEVENDEM[15.9949]PADLPSLAADFVESKDVCK.N\tALBU_HUMAN_UPS\n",
            "/home/taejoon/Class/BME603_Proteomics/Vogel2010_UPS2/comet/Vogel2010_UPS2+30uL.UPS2.comet_15270_3_1\t3.24554\t0.00245912\t5.5615e-06\tK.RMPCAEDYLSVVLNQLCVLHEK.T\tALBU_HUMAN_UPS\n",
            "/home/taejoon/Class/BME603_Proteomics/Vogel2010_UPS2/comet/Vogel2010_UPS2+30uL.UPS2.comet_11198_3_1\t3.2093\t0.00245912\t6.37236e-06\tK.TCVADESAENCDKSLHTLFGDKLCTVATLR.E\tALBU_HUMAN_UPS\n",
            "/home/taejoon/Class/BME603_Proteomics/Vogel2010_UPS2/comet/Vogel2010_UPS2+30uL.UPS2.comet_2438_3_1\t3.19346\t0.00245912\t6.7631e-06\tK.HDTSLKPISVSYNPATAK.E\tCAH1_HUMAN_UPS\n",
            "/home/taejoon/Class/BME603_Proteomics/Vogel2010_UPS2/comet/Vogel2010_UPS2+30uL.UPS2.comet_10497_3_1\t3.18832\t0.00245912\t6.89471e-06\tR.LIQFHFHWGSLDGQGSEHTVDK.K\tCAH2_HUMAN_UPS\n",
            "/home/taejoon/Class/BME603_Proteomics/Vogel2010_UPS2/comet/Vogel2010_UPS2+30uL.UPS2.comet_13793_2_1\t3.15073\t0.00245912\t7.94025e-06\tK.MDQTLAVYQQILTSMPSR.N\tLEP_HUMAN_UPS\n"
          ],
          "name": "stdout"
        }
      ]
    },
    {
      "cell_type": "markdown",
      "metadata": {
        "id": "ymIWaC8X2afC"
      },
      "source": [
        "As you can see above (first 10 lines of percolator output text), the following six columns are available in the text. \n",
        " 1. PSMId\t\n",
        " 1. score\t\n",
        " 1. q-value\t\n",
        " 1. posterior_error_prob\t\n",
        " 1. peptide\t\n",
        " 1. proteinIds"
      ]
    },
    {
      "cell_type": "code",
      "metadata": {
        "colab": {
          "base_uri": "https://localhost:8080/"
        },
        "id": "rxQzG-BS2JwL",
        "outputId": "e9334976-cf97-448a-99de-a4b50a9dbd64"
      },
      "source": [
        "import pprint\n",
        "pp = pprint.PrettyPrinter(indent=2)\n",
        "\n",
        "sp_count = dict()\n",
        "f_pout = open(filename_pout, 'r')\n",
        "headers = f_pout.readline().strip().split(\"\\t\")\n",
        "for line in f_pout:\n",
        "  tokens = line.strip().split(\"\\t\")\n",
        "  psm_id = tokens[0]\n",
        "  score = float(tokens[1])\n",
        "  qvalue = float(tokens[2])\n",
        "  pep = float(tokens[3])\n",
        "  pep_seq = tokens[4]\n",
        "  prot_id = tokens[5]\n",
        "  if prot_id not in sp_count:\n",
        "    sp_count[prot_id] = {'all': 0, 'filtered': 0}\n",
        "  sp_count[prot_id]['all'] += 1\n",
        "  if qvalue < 0.05:\n",
        "    sp_count[prot_id]['filtered'] += 1\n",
        "f_pout.close()\n",
        "\n",
        "pp.pprint(sp_count)"
      ],
      "execution_count": 29,
      "outputs": [
        {
          "output_type": "stream",
          "text": [
            "{ 'ALBU_HUMAN_UPS': {'all': 118, 'filtered': 87},\n",
            "  'ANT3_HUMAN_UPS': {'all': 59, 'filtered': 0},\n",
            "  'ANXA5_HUMAN_UPS': {'all': 35, 'filtered': 0},\n",
            "  'B2MG_HUMAN_UPS': {'all': 7, 'filtered': 0},\n",
            "  'BID_HUMAN_UPS': {'all': 21, 'filtered': 0},\n",
            "  'CAH1_HUMAN_UPS': {'all': 33, 'filtered': 24},\n",
            "  'CAH2_HUMAN_UPS': {'all': 39, 'filtered': 30},\n",
            "  'CATA_HUMAN_UPS': {'all': 60, 'filtered': 30},\n",
            "  'CATD_HUMAN_UPS': {'all': 22, 'filtered': 0},\n",
            "  'CATG_HUMAN_UPS': {'all': 36, 'filtered': 0},\n",
            "  'CO5_HUMAN_UPS': {'all': 10, 'filtered': 5},\n",
            "  'CRP_HUMAN_UPS': {'all': 9, 'filtered': 1},\n",
            "  'CYB5_HUMAN_UPS': {'all': 6, 'filtered': 2},\n",
            "  'CYC_HUMAN_UPS': {'all': 19, 'filtered': 1},\n",
            "  'EGF_HUMAN_UPS': {'all': 5, 'filtered': 3},\n",
            "  'FABPH_HUMAN_UPS': {'all': 14, 'filtered': 0},\n",
            "  'GELS_HUMAN_UPS': {'all': 60, 'filtered': 0},\n",
            "  'GSTA1_HUMAN_UPS': {'all': 36, 'filtered': 0},\n",
            "  'GSTP1_HUMAN_UPS': {'all': 14, 'filtered': 0},\n",
            "  'HBA_HUMAN_UPS': {'all': 19, 'filtered': 12},\n",
            "  'HBB_HUMAN_UPS': {'all': 16, 'filtered': 14},\n",
            "  'IFNG_HUMAN_UPS': {'all': 21, 'filtered': 0},\n",
            "  'IGF2_HUMAN_UPS': {'all': 2, 'filtered': 0},\n",
            "  'IL8_HUMAN_UPS': {'all': 8, 'filtered': 0},\n",
            "  'KCRM_HUMAN_UPS': {'all': 60, 'filtered': 11},\n",
            "  'LALBA_HUMAN_UPS': {'all': 9, 'filtered': 5},\n",
            "  'LEP_HUMAN_UPS': {'all': 16, 'filtered': 13},\n",
            "  'LYSC_HUMAN_UPS': {'all': 12, 'filtered': 0},\n",
            "  'MYG_HUMAN_UPS': {'all': 21, 'filtered': 11},\n",
            "  'NEDD8_HUMAN_UPS': {'all': 14, 'filtered': 2},\n",
            "  'NQO1_HUMAN_UPS': {'all': 28, 'filtered': 6},\n",
            "  'NQO2_HUMAN_UPS': {'all': 15, 'filtered': 5},\n",
            "  'PDGFB_HUMAN_UPS': {'all': 11, 'filtered': 0},\n",
            "  'PPIA_HUMAN_UPS': {'all': 30, 'filtered': 12},\n",
            "  'PRDX1_HUMAN_UPS': {'all': 31, 'filtered': 23},\n",
            "  'RASH_HUMAN_UPS': {'all': 20, 'filtered': 1},\n",
            "  'RETBP_HUMAN_UPS': {'all': 23, 'filtered': 5},\n",
            "  'SODC_HUMAN_UPS': {'all': 6, 'filtered': 0},\n",
            "  'SUMO1_HUMAN_UPS': {'all': 62, 'filtered': 17},\n",
            "  'SYHC_HUMAN_UPS': {'all': 68, 'filtered': 12},\n",
            "  'SYUG_HUMAN_UPS': {'all': 18, 'filtered': 0},\n",
            "  'TAU_HUMAN_UPS': {'all': 45, 'filtered': 1},\n",
            "  'THIO_HUMAN_UPS': {'all': 13, 'filtered': 1},\n",
            "  'TNFA_HUMAN_UPS': {'all': 9, 'filtered': 0},\n",
            "  'TRFE_HUMAN_UPS': {'all': 60, 'filtered': 2},\n",
            "  'TRFL_HUMAN_UPS': {'all': 56, 'filtered': 0},\n",
            "  'UB2E1_HUMAN_UPS': {'all': 18, 'filtered': 0},\n",
            "  'UBC9_HUMAN_UPS': {'all': 16, 'filtered': 4},\n",
            "  'UBE2C_HUMAN_UPS': {'all': 18, 'filtered': 0},\n",
            "  'UBIQ_HUMAN_UPS': {'all': 16, 'filtered': 7}}\n"
          ],
          "name": "stdout"
        }
      ]
    },
    {
      "cell_type": "markdown",
      "metadata": {
        "id": "31PBOfTu5GCb"
      },
      "source": [
        "Now you need the input concentration and protein length. \n",
        "Download the FASTA file from the repository. \n",
        "filename_fasta = 'UPS2.fa.gz'"
      ]
    },
    {
      "cell_type": "code",
      "metadata": {
        "colab": {
          "base_uri": "https://localhost:8080/"
        },
        "id": "4hlkHxoy5gBN",
        "outputId": "8a165e9b-e3c2-46cc-87bc-8623a61cb199"
      },
      "source": [
        "filename_fasta = 'UPS2.fa'\n",
        "url_fasta = url_data + filename_fasta\n",
        "!curl -O $url_fasta\n",
        "!head $filename_fasta\n",
        "\n",
        "filename_info = 'UPS2.info.tsv'\n",
        "url_info = url_data + filename_info\n",
        "!curl -O $url_info\n",
        "!head $filename_info"
      ],
      "execution_count": 17,
      "outputs": [
        {
          "output_type": "stream",
          "text": [
            "  % Total    % Received % Xferd  Average Speed   Time    Time     Time  Current\n",
            "                                 Dload  Upload   Total   Spent    Left  Speed\n",
            "100 13213  100 13213    0     0  10379      0  0:00:01  0:00:01 --:--:-- 10379\n",
            ">ALBU_HUMAN_UPS\tP02768ups\n",
            "AHKSEVAHRFKDLGEENFKALVLIAFAQYLQQCPFEDHVKLVNEVTEFAKTCVADESAENCDKSLHTLFGDKLCTVATLRETYGEMADCCAKQEPERNECFLQHKDDNPNLPRLVRPEVDVMCTAFHDNEETFLKKYLYEIARRHPYFYAPELLFFAKRYKAAFTECCQAADKAACLLPKLDELRDEGKASSAKQRLKCASLQKFGERAFKAWAVARLSQRFPKAEFAEVSKLVTDLTKVHTECCHGDLLECADDRADLAKYICENQDSISSKLKECCEKPLLEKSHCIAEVENDEMPADLPSLAADFVESKDVCKNYAEAKDVFLGMFLYEYARRHPDYSVVLLLRLAKTYETTLEKCCAAADPHECYAKVFDEFKPLVEEPQNLIKQNCELFEQLGEYKFQNALLVRYTKKVPQVSTPTLVEVSRNLGKVGSKCCKHPEAKRMPCAEDYLSVVLNQLCVLHEKTPVSDRVTKCCTESLVNRRPCFSALEVDETYVPKEFNAETFTFHADICTLSEKERQIKKQTALVELVKHKPKATKEQLKAVMDDFAAFVEKCCKADDKETCFAEEGKKLVAASQAALGL\n",
            ">NEDD8_HUMAN_UPS\tQ15843ups\n",
            "MLIKVKTLTGKEIEIDIEPTDKVERIKERVEEKEGIPPQQQRLIYSGKQMNDEKTAADYKILGGSVLHLVLALRGGGGLRQ\n",
            ">RASH_HUMAN_UPS\tP01112ups\n",
            "MTEYKLVVVGAGGVGKSALTIQLIQNHFVDEYDPTIEDSYRKQVVIDGETCLLDILDTAGQEEYSAMRDQYMRTGEGFLCVFAINNTKSFEDIHQYREQIKRVKDSDDVPMVLVGNKCDLAARTVESRQAQDLARSYGIPYIETSAKTRQGVEDAFYTLVREIRQHKLRKLNPPDESGPGCMSCKCVLS\n",
            ">CATA_HUMAN_UPS\tP04040ups\n",
            "ADSRDPASDQMQHWKEQRAAQKADVLTTGAGNPVGDKLNVITVGPRGPLLVQDVVFTDEMAHFDRERIPERVVHAKGAGAFGYFEVTHDITKYSKAKVFEHIGKKTPIAVRFSTVAGESGSADTVRDPRGFAVKFYTEDGNWDLVGNNTPIFFIRDPILFPSFIHSQKRNPQTHLKDPDMVWDFWSLRPESLHQVSFLFSDRGIPDGHRHMNGYGSHTFKLVNANGEAVYCKFHYKTDQGIKNLSVEDAARLSQEDPDYGIRDLFNAIATGKYPSWTFYIQVMTFNQAETFPFNPFDLTKVWPHKDYPLIPVGKLVLNRNPVNYFAEVEQIAFDPSNMPPGIEASPDKMLQGRLFAYPDTHRHRLGPNYLHIPVNCPYRARVANYQRDGPMCMQDNQGGAPNYYPNSFGAPEQQPSALEHSIQYSGEVRRFNTANDDNVTQVRAFYVNVLNEEQRKRLCENIAGHLKDAQIFIQKKAVKNFTEVHPDYGSHIQALLDKYNAEKPKNAIHTFVQSGSHLAAREKANL\n",
            ">RETBP_HUMAN_UPS\tP02753ups\n",
            "ERDCRVSSFRVKENFDKARFSGTWYAMAKKDPEGLFLQDNIVAEFSVDETGQMSATAKGRVRLLNNWDVCADMVGTFTDTEDPAKFKMKYWGVASFLQKGNDDHWIVDTDYDTYAVQYSCRLLNLDGTCADSYSFVFSRDPNGLPPEAQKIVRQRQEELCLARQYRLIVHNGYCDGRSE\n",
            "  % Total    % Received % Xferd  Average Speed   Time    Time     Time  Current\n",
            "                                 Dload  Upload   Total   Spent    Left  Speed\n",
            "100  3704  100  3704    0     0   6430      0 --:--:-- --:--:-- --:--:--  6430\n",
            "UniProt\tUPS1(fmol)\tUPS2(fmol)\tProteinName\tMW(Da)\tSource\tHost\tTag\tPotentialPTMs\n",
            "P00915\t5,000\t50,000\tCarbonic anhydrase 1\t28,738\tErythrocytes\t \t \tAcetylation\n",
            "P00918\t5,000\t50,000\tCarbonic anhydrase 2\t29,115\tErythrocytes\t \t \tAcetylation\n",
            "P01031\t5,000\t50,000\tComplement C5 [Complement C5a]\t8,536\tRecombinant\tE. coli\t \t \n",
            "P69905\t5,000\t50,000\tHemoglobin alpha chain\t15,126\tErythrocytes\t \t \t \n",
            "P68871\t5,000\t50,000\tHemoglobin beta chain\t15,867\tErythrocytes\t \t \tAcetylation, nitrosylation, glycosylation\n",
            "P41159\t5,000\t50,000\tLeptin\t16,158\tRecombinant\tE. coli\t \t \n",
            "P02768\t5,000\t50,000\tSerum Albumin\t66,357\tRecombinant\tPichia pastoris\t \t \n",
            "P62988\t5,000\t50,000\tUbiquitin\t10,597\tRecombinant\tE. coli\t6-His\t \n",
            "P04040\t5,000\t5,000\tCatalase\t59,625\tErythrocytes\t \t \t \n"
          ],
          "name": "stdout"
        }
      ]
    },
    {
      "cell_type": "code",
      "metadata": {
        "colab": {
          "base_uri": "https://localhost:8080/"
        },
        "id": "P5Wx4LCq6xNA",
        "outputId": "26f1b0c4-c40f-4755-ac4e-2cba2498ce60"
      },
      "source": [
        "import pprint\n",
        "pp = pprint.PrettyPrinter(indent=2)\n",
        "\n",
        "ups_quant = dict()\n",
        "f_info = open(filename_info, 'r')\n",
        "h_info = f_info.readline()\n",
        "for line in f_info:\n",
        "  tokens = line.strip().split(\"\\t\")\n",
        "  uniprot_acc = tokens[0]\n",
        "  ups2_quant = float(tokens[2].replace(',', ''))\n",
        "  ups_quant[uniprot_acc] = ups2_quant\n",
        "f_info.close()\n",
        "\n",
        "ups_info = dict()\n",
        "f_fa = open(filename_fasta, 'r')\n",
        "for line in f_fa:\n",
        "  if line.startswith('>'):\n",
        "    (prot_id, uniprot_acc) = line.strip().lstrip('>').split()\n",
        "    uniprot_acc = uniprot_acc.replace('ups', '')\n",
        "\n",
        "    ups_info[prot_id] = {'len': 0, 'uniprot': uniprot_acc, 'quant': 0.0}\n",
        "    if uniprot_acc in ups_quant:\n",
        "      ups_info[prot_id]['quant'] = ups_quant[uniprot_acc]\n",
        "\n",
        "  else:\n",
        "    ups_info[prot_id]['len'] += len(line.strip())\n",
        "f_fa.close()\n",
        "\n",
        "pp.pprint(ups_info)"
      ],
      "execution_count": 25,
      "outputs": [
        {
          "output_type": "stream",
          "text": [
            "{ 'ALBU_HUMAN_UPS': {'len': 584, 'quant': 50000.0, 'uniprot': 'P02768'},\n",
            "  'ANT3_HUMAN_UPS': {'len': 432, 'quant': 50.0, 'uniprot': 'P01008'},\n",
            "  'ANXA5_HUMAN_UPS': {'len': 319, 'quant': 0.5, 'uniprot': 'P08758'},\n",
            "  'B2MG_HUMAN_UPS': {'len': 99, 'quant': 50.0, 'uniprot': 'P61769'},\n",
            "  'BID_HUMAN_UPS': {'len': 195, 'quant': 50.0, 'uniprot': 'P55957'},\n",
            "  'CAH1_HUMAN_UPS': {'len': 260, 'quant': 50000.0, 'uniprot': 'P00915'},\n",
            "  'CAH2_HUMAN_UPS': {'len': 259, 'quant': 50000.0, 'uniprot': 'P00918'},\n",
            "  'CATA_HUMAN_UPS': {'len': 526, 'quant': 5000.0, 'uniprot': 'P04040'},\n",
            "  'CATD_HUMAN_UPS': {'len': 244, 'quant': 0.0, 'uniprot': 'P07339'},\n",
            "  'CATG_HUMAN_UPS': {'len': 235, 'quant': 0.0, 'uniprot': 'P08311'},\n",
            "  'CO5_HUMAN_UPS': {'len': 74, 'quant': 50000.0, 'uniprot': 'P01031'},\n",
            "  'CRP_HUMAN_UPS': {'len': 206, 'quant': 0.5, 'uniprot': 'P02741'},\n",
            "  'CYB5_HUMAN_UPS': {'len': 139, 'quant': 5000.0, 'uniprot': 'P00167'},\n",
            "  'CYC_HUMAN_UPS': {'len': 104, 'quant': 5.0, 'uniprot': 'P99999'},\n",
            "  'EGF_HUMAN_UPS': {'len': 54, 'quant': 5000.0, 'uniprot': 'P01133'},\n",
            "  'FABPH_HUMAN_UPS': {'len': 132, 'quant': 0.5, 'uniprot': 'P05413'},\n",
            "  'GELS_HUMAN_UPS': {'len': 755, 'quant': 5.0, 'uniprot': 'P06396'},\n",
            "  'GSTA1_HUMAN_UPS': {'len': 221, 'quant': 50.0, 'uniprot': 'P08263'},\n",
            "  'GSTP1_HUMAN_UPS': {'len': 209, 'quant': 5.0, 'uniprot': 'P09211'},\n",
            "  'HBA_HUMAN_UPS': {'len': 141, 'quant': 50000.0, 'uniprot': 'P69905'},\n",
            "  'HBB_HUMAN_UPS': {'len': 146, 'quant': 50000.0, 'uniprot': 'P68871'},\n",
            "  'IFNG_HUMAN_UPS': {'len': 143, 'quant': 5.0, 'uniprot': 'P01579'},\n",
            "  'IGF2_HUMAN_UPS': {'len': 67, 'quant': 50.0, 'uniprot': 'P01344'},\n",
            "  'IL8_HUMAN_UPS': {'len': 72, 'quant': 0.5, 'uniprot': 'P10145'},\n",
            "  'KCRM_HUMAN_UPS': {'len': 381, 'quant': 500.0, 'uniprot': 'P06732'},\n",
            "  'LALBA_HUMAN_UPS': {'len': 123, 'quant': 500.0, 'uniprot': 'P00709'},\n",
            "  'LEP_HUMAN_UPS': {'len': 147, 'quant': 50000.0, 'uniprot': 'P41159'},\n",
            "  'LYSC_HUMAN_UPS': {'len': 130, 'quant': 500.0, 'uniprot': 'P61626'},\n",
            "  'MYG_HUMAN_UPS': {'len': 153, 'quant': 5000.0, 'uniprot': 'P02144'},\n",
            "  'NEDD8_HUMAN_UPS': {'len': 81, 'quant': 500.0, 'uniprot': 'Q15843'},\n",
            "  'NQO1_HUMAN_UPS': {'len': 273, 'quant': 5000.0, 'uniprot': 'P15559'},\n",
            "  'NQO2_HUMAN_UPS': {'len': 230, 'quant': 500.0, 'uniprot': 'P16083'},\n",
            "  'PDGFB_HUMAN_UPS': {'len': 109, 'quant': 50.0, 'uniprot': 'P01127'},\n",
            "  'PPIA_HUMAN_UPS': {'len': 187, 'quant': 5000.0, 'uniprot': 'P62937'},\n",
            "  'PRDX1_HUMAN_UPS': {'len': 198, 'quant': 5000.0, 'uniprot': 'Q06830'},\n",
            "  'RASH_HUMAN_UPS': {'len': 189, 'quant': 5.0, 'uniprot': 'P01112'},\n",
            "  'RETBP_HUMAN_UPS': {'len': 179, 'quant': 500.0, 'uniprot': 'P02753'},\n",
            "  'SODC_HUMAN_UPS': {'len': 153, 'quant': 0.5, 'uniprot': 'P00441'},\n",
            "  'SUMO1_HUMAN_UPS': {'len': 336, 'quant': 5000.0, 'uniprot': 'P63165'},\n",
            "  'SYHC_HUMAN_UPS': {'len': 515, 'quant': 500.0, 'uniprot': 'P12081'},\n",
            "  'SYUG_HUMAN_UPS': {'len': 147, 'quant': 50.0, 'uniprot': 'O76070'},\n",
            "  'TAU_HUMAN_UPS': {'len': 440, 'quant': 0.5, 'uniprot': 'P10636'},\n",
            "  'THIO_HUMAN_UPS': {'len': 110, 'quant': 50.0, 'uniprot': 'P10599'},\n",
            "  'TNFA_HUMAN_UPS': {'len': 157, 'quant': 0.5, 'uniprot': 'P01375'},\n",
            "  'TRFE_HUMAN_UPS': {'len': 679, 'quant': 5.0, 'uniprot': 'P02787'},\n",
            "  'TRFL_HUMAN_UPS': {'len': 691, 'quant': 0.5, 'uniprot': 'P02788'},\n",
            "  'UB2E1_HUMAN_UPS': {'len': 199, 'quant': 5.0, 'uniprot': 'P51965'},\n",
            "  'UBC9_HUMAN_UPS': {'len': 158, 'quant': 500.0, 'uniprot': 'P63279'},\n",
            "  'UBE2C_HUMAN_UPS': {'len': 185, 'quant': 5.0, 'uniprot': 'O00762'},\n",
            "  'UBIQ_HUMAN_UPS': {'len': 96, 'quant': 50000.0, 'uniprot': 'P62988'}}\n"
          ],
          "name": "stdout"
        }
      ]
    },
    {
      "cell_type": "code",
      "metadata": {
        "colab": {
          "base_uri": "https://localhost:8080/",
          "height": 503
        },
        "id": "6iYRdqoQ-kNv",
        "outputId": "6f459268-ee86-44a9-a0e9-fa8d3cce75dc"
      },
      "source": [
        "import matplotlib.pyplot as plt\n",
        "\n",
        "fig = plt.figure(figsize=(8,8))\n",
        "ax1 = fig.add_subplot(2,2,1)\n",
        "ax2 = fig.add_subplot(2,2,2)\n",
        "ax3 = fig.add_subplot(2,2,3)\n",
        "ax4 = fig.add_subplot(2,2,4)\n",
        "\n",
        "quant_list = []\n",
        "all_spcount_list = []\n",
        "norm_all_spcount_list = []\n",
        "filtered_spcount_list = []\n",
        "norm_filtered_spcount_list = []\n",
        "\n",
        "for prot_id, prot_info in ups_info.items():\n",
        "  quant_list.append(prot_info['quant'])\n",
        "  all_spcount_list.append(sp_count[prot_id]['all'])\n",
        "  norm_all_spcount_list.append(sp_count[prot_id]['all']/prot_info['len'])\n",
        "  filtered_spcount_list.append(sp_count[prot_id]['filtered'])\n",
        "  norm_filtered_spcount_list.append(sp_count[prot_id]['filtered']/prot_info['len'])\n",
        "\n",
        "ax1.loglog(quant_list, all_spcount_list, 'ko', alpha=0.3)\n",
        "num_prot = len([x for x in all_spcount_list if x > 0])\n",
        "ax1.set_title('raw sp_count, all (N=%d)' % num_prot)\n",
        "ax1.set_ylim(0.1,200)\n",
        "ax1.grid()\n",
        "\n",
        "ax2.loglog(quant_list, norm_all_spcount_list, 'ko', alpha=0.3)\n",
        "ax2.set_title('norm sp_count')\n",
        "ax2.set_ylim(0.001,1)\n",
        "ax2.grid()\n",
        "\n",
        "ax3.loglog(quant_list, filtered_spcount_list, 'ko', alpha=0.3)\n",
        "num_prot = len([x for x in filtered_spcount_list if x > 0])\n",
        "ax3.set_title('raw sp_count, filtered (N=%d)' % num_prot)\n",
        "ax3.set_ylim(0.1,200)\n",
        "ax3.grid()\n",
        "\n",
        "ax4.loglog(quant_list, norm_filtered_spcount_list, 'ko', alpha=0.3)\n",
        "ax4.set_title('norm sp_count, filtered')\n",
        "ax4.set_ylim(0.001,1)\n",
        "ax4.grid()\n"
      ],
      "execution_count": 50,
      "outputs": [
        {
          "output_type": "display_data",
          "data": {
            "image/png": "[encoded data removed]",
            "text/plain": [
              "<Figure size 576x576 with 4 Axes>"
            ]
          },
          "metadata": {
            "tags": [],
            "needs_background": "light"
          }
        }
      ]
    }
  ]
}
