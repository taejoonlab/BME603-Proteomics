{
 "cells": [
  {
   "cell_type": "markdown",
   "id": "characteristic-market",
   "metadata": {},
   "source": [
    "<a href=\"https://colab.research.google.com/github/taejoonlab/BME603-Proteomics/blob/main/psm/TargetDecoyDistribution-Python3.ipynb\" target=\"_blank\">\n",
    "<img src=\"https://colab.research.google.com/assets/colab-badge.svg\" alt=\"Open In Colab\">\n",
    "</a>"
   ]
  },
  {
   "cell_type": "code",
   "execution_count": 1,
   "id": "harmful-christianity",
   "metadata": {},
   "outputs": [
    {
     "name": "stdout",
     "output_type": "stream",
     "text": [
      "  % Total    % Received % Xferd  Average Speed   Time    Time     Time  Current\n",
      "                                 Dload  Upload   Total   Spent    Left  Speed\n",
      "100 9559k  100 9559k    0     0  8407k      0  0:00:01  0:00:01 --:--:-- 8414k\n"
     ]
    }
   ],
   "source": [
    "# Download the COMET output for iPRG2009\n",
    "!curl -O https://pub.taejoonlab.org/BME603/ABRF_iPRG2009/comet.iPRG2009_Study/iPRG2009_ECOLI_blue_1.iPRG2009_Study.pin.txt"
   ]
  },
  {
   "cell_type": "code",
   "execution_count": 2,
   "id": "proved-albania",
   "metadata": {},
   "outputs": [
    {
     "name": "stdout",
     "output_type": "stream",
     "text": [
      "total 9.4M\n",
      "-rw-r--r-- 1 taejoon taejoon  10K Mar 24 15:18 TargetDecoyDistribution-Python3.ipynb\n",
      "-rw-r--r-- 1 taejoon taejoon 9.4M Mar 24 15:21 iPRG2009_ECOLI_blue_1.iPRG2009_Study.pin.txt\n"
     ]
    }
   ],
   "source": [
    "# Check whether the file is arrived.\n",
    "!ls -lh"
   ]
  },
  {
   "cell_type": "code",
   "execution_count": 3,
   "id": "assisted-modification",
   "metadata": {},
   "outputs": [
    {
     "name": "stdout",
     "output_type": "stream",
     "text": [
      "SpecId\tLabel\tScanNr\tExpMass\tCalcMass\tlnrSp\tdeltLCn\tdeltCn\tlnExpect\tXcorr\tSp\tIonFrac\tMass\tPepLen\tCharge1\tCharge2\tCharge3\tCharge4\tCharge5\tCharge6\tenzN\tenzC\tenzInt\tlnNumSP\tdM\tabsdM\tPeptide\tProteins\n",
      "../mzXML/iPRG2009_ECOLI_blue_1_37_3_1\t1\t37\t925.672276\t925.655699\t0.693147\t0.999999\t0.844052\t6.906755\t0.017384\t7.732907\t0.0714\t925.672276\t8\t0\t0\t1\t0\t0\t0\t1\t1\t1\t1.098612\t0.000018\t0.000018\tR.RIALILVK.K\tP39414\n",
      "../mzXML/iPRG2009_ECOLI_blue_1_37_3_2\t-1\t37\t925.672276\t925.655699\t0.000000\t0.999996\t0.999996\t6.906755\t0.002711\t13.698096\t0.1071\t925.672276\t8\t0\t0\t1\t0\t0\t0\t1\t1\t1\t1.098612\t0.000018\t0.000018\tK.KVLILAIR.R\trev_P39414\n",
      "../mzXML/iPRG2009_ECOLI_blue_1_321_2_1\t1\t321\t731.406420\t731.404629\t0.000000\t0.604216\t0.405704\t-6.053844\t1.899519\t760.518250\t0.8571\t731.406420\t8\t0\t1\t0\t0\t0\t0\t1\t1\t0\t5.934894\t0.000002\t0.000002\tR.VGGAAQTK.I\tP0ABB0\n",
      "../mzXML/iPRG2009_ECOLI_blue_1_321_2_2\t-1\t321\t731.406420\t731.415863\t1.098612\t0.334029\t0.132818\t-0.408838\t1.128876\t258.790527\t0.7000\t731.406420\t6\t0\t1\t0\t0\t0\t0\t1\t0\t2\t5.934894\t0.000002\t0.000002\tR.RQKDGK.P\trev_Q46861\n",
      "../mzXML/iPRG2009_ECOLI_blue_1_321_2_3\t-1\t321\t731.406420\t731.393396\t1.609438\t0.232029\t0.206561\t0.689445\t0.978941\t194.723053\t0.5000\t731.406420\t7\t0\t1\t0\t0\t0\t0\t1\t1\t0\t5.934894\t0.000002\t0.000002\tR.VGAEDLK.V\trev_P0AGE9\n",
      "../mzXML/iPRG2009_ECOLI_blue_1_321_2_4\t-1\t321\t731.406420\t731.412023\t2.772589\t0.032098\t0.032098\t2.170657\t0.776730\t111.287285\t0.4167\t731.406420\t7\t0\t1\t0\t0\t0\t0\t1\t1\t0\t5.934894\t0.000002\t0.000002\tK.GVSMLPK.E\trev_P76552\n",
      "../mzXML/iPRG2009_ECOLI_blue_1_321_2_5\t1\t321\t731.406420\t731.393396\t1.386294\t0.000000\t0.009165\t2.353280\t0.751799\t241.270645\t0.5833\t731.406420\t7\t0\t1\t0\t0\t0\t0\t1\t1\t0\t5.934894\t0.000002\t0.000002\tR.GVDIEAK.Q\tP77509\n",
      "../mzXML/iPRG2009_ECOLI_blue_1_355_2_1\t1\t355\t831.434252\t831.431907\t0.000000\t0.480085\t0.447135\t-2.289078\t1.523101\t715.195374\t0.8333\t831.434252\t7\t0\t1\t0\t0\t0\t0\t1\t1\t1\t5.552960\t0.000003\t0.000003\tR.LGDDKQR.I\tP25714\n",
      "../mzXML/iPRG2009_ECOLI_blue_1_355_2_2\t-1\t355\t831.434252\t831.435929\t1.098612\t0.059598\t0.009539\t2.616038\t0.842069\t386.277405\t0.6667\t831.434252\t7\t0\t1\t0\t0\t0\t0\t1\t1\t0\t5.552960\t0.000003\t0.000003\tR.IGEPPYR.T\trev_P23522\n"
     ]
    }
   ],
   "source": [
    "# Check the format of the file.\n",
    "! head iPRG2009_ECOLI_blue_1.iPRG2009_Study.pin.txt"
   ]
  },
  {
   "cell_type": "code",
   "execution_count": 4,
   "id": "protective-darkness",
   "metadata": {},
   "outputs": [
    {
     "name": "stdout",
     "output_type": "stream",
     "text": [
      "Number of targets: 24613\n",
      "Number of decoys: 19069\n"
     ]
    }
   ],
   "source": [
    "target_list = []\n",
    "decoy_list = []\n",
    "\n",
    "f_pin = open('iPRG2009_ECOLI_blue_1.iPRG2009_Study.pin.txt', 'r')\n",
    "headers = f_pin.readline().strip().split(\"\\t\")\n",
    "for line in f_pin:\n",
    "    tokens = line.strip().split(\"\\t\")\n",
    "    spec_id = tokens[headers.index('SpecId')]\n",
    "    scan_num = tokens[headers.index('ScanNr')]\n",
    "    is_target = int(tokens[headers.index('Label')])\n",
    "    tmp_xcorr = float(tokens[headers.index('Xcorr')])\n",
    "    if is_target  > 0:\n",
    "        target_list.append(tmp_xcorr)\n",
    "    else:\n",
    "        decoy_list.append(tmp_xcorr)\n",
    "f_pin.close()\n",
    "\n",
    "print(\"Number of targets: %d\" % len(target_list))\n",
    "print(\"Number of decoys: %d\" % len(decoy_list))"
   ]
  },
  {
   "cell_type": "code",
   "execution_count": 5,
   "id": "angry-cheat",
   "metadata": {},
   "outputs": [
    {
     "name": "stdout",
     "output_type": "stream",
     "text": [
      "Number of targets: 6648\n",
      "Number of decoys: 2133\n"
     ]
    }
   ],
   "source": [
    "target_list = []\n",
    "decoy_list = []\n",
    "\n",
    "f_pin = open('iPRG2009_ECOLI_blue_1.iPRG2009_Study.pin.txt', 'r')\n",
    "best_xcorr = dict()\n",
    "headers = f_pin.readline().strip().split(\"\\t\")\n",
    "for line in f_pin:\n",
    "    tokens = line.strip().split(\"\\t\")\n",
    "    spec_id = tokens[headers.index('SpecId')]\n",
    "    scan_num = tokens[headers.index('ScanNr')]\n",
    "    is_target = int(tokens[headers.index('Label')])\n",
    "    tmp_xcorr = float(tokens[headers.index('Xcorr')])\n",
    "    \n",
    "    if scan_num not in best_xcorr:\n",
    "        best_xcorr[scan_num] = {'xcorr': tmp_xcorr, 'is_target': is_target}\n",
    "    elif best_xcorr[scan_num]['xcorr'] < tmp_xcorr:\n",
    "        best_xcorr[scan_num] = {'xcorr': tmp_xcorr, 'is_target': is_target}\n",
    "f_pin.close()\n",
    "\n",
    "for tmp_scan_num in best_xcorr.keys():\n",
    "    if best_xcorr[tmp_scan_num]['is_target'] > 0:\n",
    "        target_list.append(best_xcorr[tmp_scan_num]['xcorr'])\n",
    "    else:\n",
    "        decoy_list.append(best_xcorr[tmp_scan_num]['xcorr'])\n",
    "print(\"Number of targets: %d\" % len(target_list))\n",
    "print(\"Number of decoys: %d\" % len(decoy_list))"
   ]
  },
  {
   "cell_type": "code",
   "execution_count": 14,
   "id": "assigned-reliance",
   "metadata": {},
   "outputs": [
    {
     "data": {
      "image/png": "[encoded data removed]",
      "text/plain": [
       "<Figure size 720x360 with 2 Axes>"
      ]
     },
     "metadata": {
      "needs_background": "light"
     },
     "output_type": "display_data"
    }
   ],
   "source": [
    "import numpy\n",
    "import matplotlib.pyplot as plt\n",
    "\n",
    "hist_bins = numpy.arange(0,5,0.1)\n",
    "\n",
    "fig = plt.figure(figsize=(10,5))\n",
    "ax1 = fig.add_subplot(1,2,1)\n",
    "ax1.hist(target_list, bins=hist_bins, histtype='step', label='Target')\n",
    "ax1.hist(decoy_list, bins=hist_bins, histtype='step', label='Decoy')\n",
    "ax1.set_xlabel('Xcorr, comet')\n",
    "ax1.set_ylabel('PSM counts')\n",
    "ax1.legend()\n",
    "\n",
    "ax2 = fig.add_subplot(1,2,2)\n",
    "ax2.hist(target_list, bins=hist_bins, histtype='step', label='Target', density=True)\n",
    "ax2.hist(decoy_list, bins=hist_bins, histtype='step', label='Decoy', density=True)\n",
    "ax2.set_xlabel('Xcorr, comet')\n",
    "ax2.set_ylabel('PSM counts, normalized')\n",
    "ax2.legend()\n",
    "plt.show()"
   ]
  },
  {
   "cell_type": "code",
   "execution_count": 17,
   "id": "dynamic-hawaiian",
   "metadata": {},
   "outputs": [
    {
     "name": "stdout",
     "output_type": "stream",
     "text": [
      "Target=892, Decoy=0, FDR=0.000\n",
      "Target=967, Decoy=0, FDR=0.000\n",
      "Target=1064, Decoy=0, FDR=0.000\n",
      "Target=1130, Decoy=0, FDR=0.000\n",
      "Target=1217, Decoy=0, FDR=0.000\n",
      "Target=1330, Decoy=0, FDR=0.000\n",
      "Target=1435, Decoy=0, FDR=0.000\n",
      "Target=1533, Decoy=0, FDR=0.000\n",
      "Target=1635, Decoy=2, FDR=0.002\n",
      "Target=1756, Decoy=4, FDR=0.005\n",
      "Target=1875, Decoy=5, FDR=0.005\n",
      "Target=2007, Decoy=7, FDR=0.007\n",
      "Target=2140, Decoy=9, FDR=0.008\n",
      "Target=2263, Decoy=14, FDR=0.012\n",
      "Target=2384, Decoy=19, FDR=0.016\n",
      "Target=2509, Decoy=31, FDR=0.024\n",
      "Target=2630, Decoy=44, FDR=0.033\n",
      "Target=2774, Decoy=53, FDR=0.037\n",
      "Target=2927, Decoy=70, FDR=0.047\n",
      "Target=3089, Decoy=101, FDR=0.063\n"
     ]
    }
   ],
   "source": [
    "for tmp_xcorr in numpy.arange(2.5, 1.5, -0.05):\n",
    "    count_target = len([x for x in target_list if x > tmp_xcorr])\n",
    "    count_decoy = len([x for x in decoy_list if x > tmp_xcorr])\n",
    "    tmp_FDR = count_decoy * 2 / (count_target + count_decoy)\n",
    "    print(\"Target=%d, Decoy=%d, FDR=%0.3f\" % (count_target, count_decoy, tmp_FDR))"
   ]
  },
  {
   "cell_type": "code",
   "execution_count": null,
   "id": "dominican-jersey",
   "metadata": {},
   "outputs": [],
   "source": []
  }
 ],
 "metadata": {
  "kernelspec": {
   "display_name": "Python 3",
   "language": "python",
   "name": "python3"
  },
  "language_info": {
   "codemirror_mode": {
    "name": "ipython",
    "version": 3
   },
   "file_extension": ".py",
   "mimetype": "text/x-python",
   "name": "python",
   "nbconvert_exporter": "python",
   "pygments_lexer": "ipython3",
   "version": "3.8.8"
  }
 },
 "nbformat": 4,
 "nbformat_minor": 5
}
